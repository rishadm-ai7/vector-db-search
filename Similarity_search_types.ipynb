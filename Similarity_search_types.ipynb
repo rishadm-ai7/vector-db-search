{
 "cells": [
  {
   "cell_type": "markdown",
   "id": "678a2565",
   "metadata": {},
   "source": [
    "jaccard's distance : intersection/union of sets gives the jaccard's distance"
   ]
  },
  {
   "cell_type": "code",
   "execution_count": 39,
   "id": "5ba03ce2",
   "metadata": {},
   "outputs": [],
   "source": [
    "def jaccard(x:str,y:str):\n",
    "    x=set(x.split())\n",
    "    y=set(y.split())\n",
    "    inter=x.intersection(y)\n",
    "    union= x.union(y)\n",
    "    return len(inter)/len(union)"
   ]
  },
  {
   "cell_type": "code",
   "execution_count": 42,
   "id": "ee3aa81c",
   "metadata": {},
   "outputs": [
    {
     "data": {
      "text/plain": [
       "0.25"
      ]
     },
     "execution_count": 42,
     "metadata": {},
     "output_type": "execute_result"
    }
   ],
   "source": [
    "jaccard('1 2 3','2 4')"
   ]
  },
  {
   "cell_type": "markdown",
   "id": "94b3b4db",
   "metadata": {},
   "source": [
    "W-Shingling : "
   ]
  },
  {
   "cell_type": "code",
   "execution_count": 49,
   "id": "b04403c8",
   "metadata": {},
   "outputs": [],
   "source": [
    "a='The rain poured down relentlessly as the thunder roared, creating a symphony of natures fury.'\n",
    "b='The storm unleashed its wrath, with rain cascading from the darkened sky while thunder reverberated through the air.'"
   ]
  },
  {
   "cell_type": "code",
   "execution_count": 50,
   "id": "8e06a444",
   "metadata": {},
   "outputs": [],
   "source": [
    "a=a.split()\n",
    "b=b.split()"
   ]
  },
  {
   "cell_type": "code",
   "execution_count": 81,
   "id": "b5347f96",
   "metadata": {},
   "outputs": [
    {
     "data": {
      "text/plain": [
       "\"['The rain', 'rain poured', 'poured down', 'down relentlessly', 'relentlessly as', 'as the', 'the thunder', 'thunder roared,', 'roared, creating', 'creating a', 'a symphony', 'symphony of', 'of natures', 'natures fury.']\""
      ]
     },
     "execution_count": 81,
     "metadata": {},
     "output_type": "execute_result"
    }
   ],
   "source": [
    "x=str([\" \".join([a[i],a[i+1]]) for i in range(len(a)-1)])\n",
    "x"
   ]
  },
  {
   "cell_type": "code",
   "execution_count": 82,
   "id": "396feb00",
   "metadata": {},
   "outputs": [
    {
     "data": {
      "text/plain": [
       "\"['The storm', 'storm unleashed', 'unleashed its', 'its wrath,', 'wrath, with', 'with rain', 'rain cascading', 'cascading from', 'from the', 'the darkened', 'darkened sky', 'sky while', 'while thunder', 'thunder reverberated', 'reverberated through', 'through the', 'the air.']\""
      ]
     },
     "execution_count": 82,
     "metadata": {},
     "output_type": "execute_result"
    }
   ],
   "source": [
    "y=str([\" \".join([b[i],b[i+1]]) for i in range(len(b)-1)])\n",
    "y"
   ]
  },
  {
   "cell_type": "code",
   "execution_count": 80,
   "id": "68fcdbd0",
   "metadata": {},
   "outputs": [
    {
     "data": {
      "text/plain": [
       "0.1320754716981132"
      ]
     },
     "execution_count": 80,
     "metadata": {},
     "output_type": "execute_result"
    }
   ],
   "source": [
    "jaccard(x,y)"
   ]
  },
  {
   "cell_type": "code",
   "execution_count": null,
   "id": "4ffa616a",
   "metadata": {},
   "outputs": [],
   "source": []
  }
 ],
 "metadata": {
  "kernelspec": {
   "display_name": "Python 3 (ipykernel)",
   "language": "python",
   "name": "python3"
  },
  "language_info": {
   "codemirror_mode": {
    "name": "ipython",
    "version": 3
   },
   "file_extension": ".py",
   "mimetype": "text/x-python",
   "name": "python",
   "nbconvert_exporter": "python",
   "pygments_lexer": "ipython3",
   "version": "3.10.6"
  }
 },
 "nbformat": 4,
 "nbformat_minor": 5
}
